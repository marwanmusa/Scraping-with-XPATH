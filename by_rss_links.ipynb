{
 "cells": [
  {
   "cell_type": "markdown",
   "metadata": {},
   "source": [
    "## *Web-Scrapp using rss links*"
   ]
  },
  {
   "cell_type": "code",
   "execution_count": 20,
   "metadata": {},
   "outputs": [],
   "source": [
    "# Importing Libraries\n",
    "import pandas as pd\n",
    "import numpy as np\n",
    "import xml.etree.cElementTree as et"
   ]
  },
  {
   "cell_type": "code",
   "execution_count": 21,
   "metadata": {},
   "outputs": [],
   "source": [
    "# Parsing\n",
    "tree=et.parse('terkini.xml')\n",
    "root=tree.getroot()"
   ]
  },
  {
   "cell_type": "code",
   "execution_count": 22,
   "metadata": {},
   "outputs": [],
   "source": [
    "# Empty list of each data that will be filled\n",
    "Title = []\n",
    "Link = []\n",
    "Timestamp = []\n",
    "Detail_article = []"
   ]
  },
  {
   "cell_type": "code",
   "execution_count": 23,
   "metadata": {},
   "outputs": [],
   "source": [
    "# Reading\n",
    "for title in root.iter('title'):\n",
    "    Title.append(title.text)\n",
    "    \n",
    "for url in root.iter('link'):\n",
    "    Link.append(url.text)\n",
    "    \n",
    "for pubdate in root.iter('pubDate'):\n",
    "    Timestamp.append(pubdate.text)\n",
    "    \n",
    "for detail in root.iter('description'):\n",
    "    Detail_article.append(detail.text)"
   ]
  },
  {
   "cell_type": "code",
   "execution_count": 24,
   "metadata": {},
   "outputs": [],
   "source": [
    "# Data in dataframe\n",
    "News_detail_df = pd.DataFrame(list(zip(Title, Link, Timestamp, Detail_article)), \n",
    "                       columns=['Title', 'Link', 'Timestamp', 'Detail_article'])"
   ]
  },
  {
   "cell_type": "code",
   "execution_count": 25,
   "metadata": {},
   "outputs": [
    {
     "data": {
      "text/html": [
       "<div>\n",
       "<style scoped>\n",
       "    .dataframe tbody tr th:only-of-type {\n",
       "        vertical-align: middle;\n",
       "    }\n",
       "\n",
       "    .dataframe tbody tr th {\n",
       "        vertical-align: top;\n",
       "    }\n",
       "\n",
       "    .dataframe thead th {\n",
       "        text-align: right;\n",
       "    }\n",
       "</style>\n",
       "<table border=\"1\" class=\"dataframe\">\n",
       "  <thead>\n",
       "    <tr style=\"text-align: right;\">\n",
       "      <th></th>\n",
       "      <th>Title</th>\n",
       "      <th>Link</th>\n",
       "      <th>Timestamp</th>\n",
       "      <th>Detail_article</th>\n",
       "    </tr>\n",
       "  </thead>\n",
       "  <tbody>\n",
       "    <tr>\n",
       "      <th>0</th>\n",
       "      <td>ANTARA News Jambi Terkini</td>\n",
       "      <td>https://jambi.antaranews.com</td>\n",
       "      <td>Sun, 28 Aug 2022 21:39:36 +0700</td>\n",
       "      <td>News And Service from ANTARA News Jambi</td>\n",
       "    </tr>\n",
       "    <tr>\n",
       "      <th>1</th>\n",
       "      <td>Malisya Deslilian lulus Fakultas Kedokteran Un...</td>\n",
       "      <td>https://jambi.antaranews.com/berita/519381/mal...</td>\n",
       "      <td>Sun, 28 Aug 2022 21:22:25 +0700</td>\n",
       "      <td>&lt;img src=\"https://img.antaranews.com/cache/255...</td>\n",
       "    </tr>\n",
       "    <tr>\n",
       "      <th>2</th>\n",
       "      <td>Polda Jambi perkuat pembinaan sikap personel u...</td>\n",
       "      <td>https://jambi.antaranews.com/berita/519377/pol...</td>\n",
       "      <td>Sun, 28 Aug 2022 20:42:00 +0700</td>\n",
       "      <td>&lt;img src=\"https://img.antaranews.com/cache/255...</td>\n",
       "    </tr>\n",
       "    <tr>\n",
       "      <th>3</th>\n",
       "      <td>Ribuan peserta antusias ikuti Jambi Color Run ...</td>\n",
       "      <td>https://jambi.antaranews.com/berita/519373/rib...</td>\n",
       "      <td>Sun, 28 Aug 2022 20:27:58 +0700</td>\n",
       "      <td>&lt;img src=\"https://img.antaranews.com/cache/255...</td>\n",
       "    </tr>\n",
       "    <tr>\n",
       "      <th>4</th>\n",
       "      <td>Pertamina Patra Niaga Regional Sumbagsel sesal...</td>\n",
       "      <td>https://jambi.antaranews.com/berita/519369/per...</td>\n",
       "      <td>Sun, 28 Aug 2022 19:18:58 +0700</td>\n",
       "      <td>&lt;img src=\"https://img.antaranews.com/cache/255...</td>\n",
       "    </tr>\n",
       "  </tbody>\n",
       "</table>\n",
       "</div>"
      ],
      "text/plain": [
       "                                               Title  \\\n",
       "0                          ANTARA News Jambi Terkini   \n",
       "1  Malisya Deslilian lulus Fakultas Kedokteran Un...   \n",
       "2  Polda Jambi perkuat pembinaan sikap personel u...   \n",
       "3  Ribuan peserta antusias ikuti Jambi Color Run ...   \n",
       "4  Pertamina Patra Niaga Regional Sumbagsel sesal...   \n",
       "\n",
       "                                                Link  \\\n",
       "0                       https://jambi.antaranews.com   \n",
       "1  https://jambi.antaranews.com/berita/519381/mal...   \n",
       "2  https://jambi.antaranews.com/berita/519377/pol...   \n",
       "3  https://jambi.antaranews.com/berita/519373/rib...   \n",
       "4  https://jambi.antaranews.com/berita/519369/per...   \n",
       "\n",
       "                         Timestamp  \\\n",
       "0  Sun, 28 Aug 2022 21:39:36 +0700   \n",
       "1  Sun, 28 Aug 2022 21:22:25 +0700   \n",
       "2  Sun, 28 Aug 2022 20:42:00 +0700   \n",
       "3  Sun, 28 Aug 2022 20:27:58 +0700   \n",
       "4  Sun, 28 Aug 2022 19:18:58 +0700   \n",
       "\n",
       "                                      Detail_article  \n",
       "0            News And Service from ANTARA News Jambi  \n",
       "1  <img src=\"https://img.antaranews.com/cache/255...  \n",
       "2  <img src=\"https://img.antaranews.com/cache/255...  \n",
       "3  <img src=\"https://img.antaranews.com/cache/255...  \n",
       "4  <img src=\"https://img.antaranews.com/cache/255...  "
      ]
     },
     "execution_count": 25,
     "metadata": {},
     "output_type": "execute_result"
    }
   ],
   "source": [
    "# top 5 data scrapped\n",
    "News_detail_df.head()"
   ]
  },
  {
   "cell_type": "markdown",
   "metadata": {},
   "source": [
    "## *Saving the news detail to a database*"
   ]
  },
  {
   "cell_type": "code",
   "execution_count": 2,
   "metadata": {},
   "outputs": [],
   "source": [
    "# importing libraries\n",
    "import mysql.connector\n",
    "from mysql.connector import Error\n",
    "import pandas as pd"
   ]
  },
  {
   "cell_type": "code",
   "execution_count": 3,
   "metadata": {},
   "outputs": [],
   "source": [
    "# Connecting to MySQL Server\n",
    "def create_server_connection(host_name, user_name, user_password):\n",
    "    connection = None\n",
    "    try:\n",
    "        connection = mysql.connector.connect(\n",
    "            host=host_name,\n",
    "            user=user_name,\n",
    "            passwd=user_password\n",
    "        )\n",
    "        print(\"MySQL Database connection successful\")\n",
    "    except Error as err:\n",
    "        print(f\"Error: '{err}'\")\n",
    "\n",
    "    return connection"
   ]
  },
  {
   "cell_type": "code",
   "execution_count": 7,
   "metadata": {},
   "outputs": [
    {
     "name": "stdout",
     "output_type": "stream",
     "text": [
      "MySQL Database connection successful\n"
     ]
    }
   ],
   "source": [
    "# Connecting\n",
    "connection = create_server_connection(\"localhost\", \"root\", \"insert your mysql password here\")"
   ]
  },
  {
   "cell_type": "code",
   "execution_count": 8,
   "metadata": {},
   "outputs": [],
   "source": [
    "# Function for Creating a New Database\n",
    "def create_database(connection, query):\n",
    "    cursor = connection.cursor()\n",
    "    try:\n",
    "        cursor.execute(query)\n",
    "        print(\"Database created successfully\")\n",
    "    except Error as err:\n",
    "        print(f\"Error: '{err}'\")"
   ]
  },
  {
   "cell_type": "code",
   "execution_count": 9,
   "metadata": {},
   "outputs": [
    {
     "name": "stdout",
     "output_type": "stream",
     "text": [
      "Database created successfully\n"
     ]
    }
   ],
   "source": [
    "# Creating a New Database\n",
    "create_database_query = \"CREATE DATABASE news_article\"\n",
    "create_database(connection, create_database_query)"
   ]
  },
  {
   "cell_type": "markdown",
   "metadata": {},
   "source": [
    "Now that we have created a database in MySQL Server, we can modify our create_server_connection function to connect directly to this database. Note that it's possible - common, in fact - to have multiple databases on one MySQL Server, so we want to always and automatically connect to the database we're interested in.\n",
    "\n",
    "We can do this like so:"
   ]
  },
  {
   "cell_type": "code",
   "execution_count": 10,
   "metadata": {},
   "outputs": [],
   "source": [
    "# Connecting to the Database\n",
    "def create_db_connection(host_name, user_name, user_password, db_name):\n",
    "    connection = None\n",
    "    try:\n",
    "        connection = mysql.connector.connect(\n",
    "            host=host_name,\n",
    "            user=user_name,\n",
    "            passwd=user_password,\n",
    "            database=db_name\n",
    "        )\n",
    "        print(\"MySQL Database connection successful\")\n",
    "    except Error as err:\n",
    "        print(f\"Error: '{err}'\")\n",
    "\n",
    "    return connection"
   ]
  },
  {
   "cell_type": "code",
   "execution_count": 11,
   "metadata": {},
   "outputs": [],
   "source": [
    "# Creating a Query Execution Function\n",
    "def execute_query(connection, query):\n",
    "    cursor = connection.cursor()\n",
    "    try:\n",
    "        cursor.execute(query)\n",
    "        connection.commit()\n",
    "        print(\"Query successful\")\n",
    "    except Error as err:\n",
    "        print(f\"Error: '{err}'\")"
   ]
  },
  {
   "cell_type": "code",
   "execution_count": 18,
   "metadata": {},
   "outputs": [
    {
     "name": "stdout",
     "output_type": "stream",
     "text": [
      "MySQL Database connection successful\n",
      "Query successful\n"
     ]
    }
   ],
   "source": [
    "# Creating Tables\n",
    "create_newsarticle_table = \"\"\"\n",
    "CREATE TABLE news_article (\n",
    "  id int(11) NOT NULL AUTO_INCREMENT,\n",
    "  title varchar(255) COLLATE utf8mb4_unicode_520_ci NOT NULL DEFAULT '',\n",
    "  url varchar(255) CHARACTER SET latin1 NOT NULL DEFAULT '',\n",
    "  content longtext COLLATE utf8mb4_unicode_520_ci,\n",
    "  summary text COLLATE utf8mb4_unicode_520_ci,\n",
    "  article_ts bigint(20) NOT NULL DEFAULT '0' COMMENT 'published timestamp of article',\n",
    "  published_date date DEFAULT NULL,\n",
    "  inserted timestamp NOT NULL DEFAULT CURRENT_TIMESTAMP,\n",
    "  updated timestamp NOT NULL DEFAULT CURRENT_TIMESTAMP ON UPDATE CURRENT_TIMESTAMP,\n",
    "  PRIMARY KEY (id),\n",
    "  UNIQUE KEY UNIK (url)\n",
    ") ENGINE=InnoDB DEFAULT CHARSET=utf8mb4 COLLATE=utf8mb4_unicode_520_ci;\n",
    " \"\"\"\n",
    "\n",
    "connection = create_db_connection(\"localhost\", \"root\", \"insert your mysql password here\", \"news_article\") # Connect to the Database\n",
    "execute_query(connection, create_newsarticle_table) # Execute our defined query"
   ]
  },
  {
   "cell_type": "markdown",
   "metadata": {},
   "source": [
    "*Since the task is `to import the news details to a database`, I will perform how to make a query to import the information `manually`.*"
   ]
  },
  {
   "cell_type": "code",
   "execution_count": 29,
   "metadata": {},
   "outputs": [
    {
     "name": "stdout",
     "output_type": "stream",
     "text": [
      "MySQL Database connection successful\n",
      "Error: '1048 (23000): Column 'article_ts' cannot be null'\n"
     ]
    }
   ],
   "source": [
    "# Populating the Tables\n",
    "pop_newsarticle = \"\"\"\n",
    "INSERT INTO news_article VALUES\n",
    "(1, 'ANTARA News Jambi Terkini', 'https://jambi.antaranews.com', 'News And Service from ANTARA News Jambi', NULL, NULL, 'Sun, 28 Aug 2022 21:39:36 +0700', NULL, NULL);\n",
    "\"\"\"\n",
    "\n",
    "connection = create_db_connection(\"localhost\", \"root\", \"insert your mysql password here\", \"news_article\")\n",
    "execute_query(connection, pop_newsarticle)\n"
   ]
  },
  {
   "cell_type": "markdown",
   "metadata": {},
   "source": [
    "***Column `article_ts`*** cannot be null, I inserted `NULL` values because I'm still searching for how to convert the string value (*since the timestamp scrapped result is in `string` form*), I'll fix it later soon."
   ]
  },
  {
   "cell_type": "markdown",
   "metadata": {},
   "source": [
    "But at least we've near to reach the goal that is to scrapp the news articles using rss links and importing the result on a database."
   ]
  }
 ],
 "metadata": {
  "kernelspec": {
   "display_name": "Python 3.9.12",
   "language": "python",
   "name": "python3"
  },
  "language_info": {
   "codemirror_mode": {
    "name": "ipython",
    "version": 3
   },
   "file_extension": ".py",
   "mimetype": "text/x-python",
   "name": "python",
   "nbconvert_exporter": "python",
   "pygments_lexer": "ipython3",
   "version": "3.9.12"
  },
  "orig_nbformat": 4,
  "vscode": {
   "interpreter": {
    "hash": "5747b9065b151de92c4aa2cd98088d5652819cf8ec87bb936e665f94e52b8803"
   }
  }
 },
 "nbformat": 4,
 "nbformat_minor": 2
}
