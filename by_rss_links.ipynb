{
 "cells": [
  {
   "cell_type": "code",
   "execution_count": 3,
   "metadata": {},
   "outputs": [],
   "source": [
    "# Importing Libraries\n",
    "import pandas as pd\n",
    "import numpy as np\n",
    "import xml.etree.cElementTree as et"
   ]
  },
  {
   "cell_type": "code",
   "execution_count": 6,
   "metadata": {},
   "outputs": [],
   "source": [
    "# Parsing\n",
    "tree=et.parse('terkini.xml')\n",
    "root=tree.getroot()"
   ]
  },
  {
   "cell_type": "code",
   "execution_count": 7,
   "metadata": {},
   "outputs": [],
   "source": [
    "# Empty list of each data that will be filled\n",
    "Title = []\n",
    "Link = []\n",
    "Timestamp = []\n",
    "Detail_article = []"
   ]
  },
  {
   "cell_type": "code",
   "execution_count": 11,
   "metadata": {},
   "outputs": [],
   "source": [
    "# Reading\n",
    "for title in root.iter('title'):\n",
    "    Title.append(title.text)\n",
    "    \n",
    "for url in root.iter('link'):\n",
    "    Link.append(url.text)\n",
    "    \n",
    "for pubdate in root.iter('pubDate'):\n",
    "    Timestamp.append(pubdate.text)\n",
    "    \n",
    "for detail in root.iter('description'):\n",
    "    Detail_article.append(detail.text)"
   ]
  },
  {
   "cell_type": "code",
   "execution_count": 9,
   "metadata": {},
   "outputs": [],
   "source": [
    "# Data in dataframe\n",
    "News_detail_df = pd.DataFrame(list(zip(Title, Link, Timestamp, Detail_article)), \n",
    "                       columns=['Title', 'Link', 'Timestamp', 'Detail_article'])"
   ]
  },
  {
   "cell_type": "code",
   "execution_count": 12,
   "metadata": {},
   "outputs": [
    {
     "data": {
      "text/html": [
       "<div>\n",
       "<style scoped>\n",
       "    .dataframe tbody tr th:only-of-type {\n",
       "        vertical-align: middle;\n",
       "    }\n",
       "\n",
       "    .dataframe tbody tr th {\n",
       "        vertical-align: top;\n",
       "    }\n",
       "\n",
       "    .dataframe thead th {\n",
       "        text-align: right;\n",
       "    }\n",
       "</style>\n",
       "<table border=\"1\" class=\"dataframe\">\n",
       "  <thead>\n",
       "    <tr style=\"text-align: right;\">\n",
       "      <th></th>\n",
       "      <th>Title</th>\n",
       "      <th>Link</th>\n",
       "      <th>Timestamp</th>\n",
       "      <th>Detail_article</th>\n",
       "    </tr>\n",
       "  </thead>\n",
       "  <tbody>\n",
       "    <tr>\n",
       "      <th>0</th>\n",
       "      <td>ANTARA News Jambi Terkini</td>\n",
       "      <td>https://jambi.antaranews.com</td>\n",
       "      <td>Sun, 28 Aug 2022 21:39:36 +0700</td>\n",
       "      <td>News And Service from ANTARA News Jambi</td>\n",
       "    </tr>\n",
       "    <tr>\n",
       "      <th>1</th>\n",
       "      <td>Malisya Deslilian lulus Fakultas Kedokteran Un...</td>\n",
       "      <td>https://jambi.antaranews.com/berita/519381/mal...</td>\n",
       "      <td>Sun, 28 Aug 2022 21:22:25 +0700</td>\n",
       "      <td>&lt;img src=\"https://img.antaranews.com/cache/255...</td>\n",
       "    </tr>\n",
       "    <tr>\n",
       "      <th>2</th>\n",
       "      <td>Polda Jambi perkuat pembinaan sikap personel u...</td>\n",
       "      <td>https://jambi.antaranews.com/berita/519377/pol...</td>\n",
       "      <td>Sun, 28 Aug 2022 20:42:00 +0700</td>\n",
       "      <td>&lt;img src=\"https://img.antaranews.com/cache/255...</td>\n",
       "    </tr>\n",
       "    <tr>\n",
       "      <th>3</th>\n",
       "      <td>Ribuan peserta antusias ikuti Jambi Color Run ...</td>\n",
       "      <td>https://jambi.antaranews.com/berita/519373/rib...</td>\n",
       "      <td>Sun, 28 Aug 2022 20:27:58 +0700</td>\n",
       "      <td>&lt;img src=\"https://img.antaranews.com/cache/255...</td>\n",
       "    </tr>\n",
       "    <tr>\n",
       "      <th>4</th>\n",
       "      <td>Pertamina Patra Niaga Regional Sumbagsel sesal...</td>\n",
       "      <td>https://jambi.antaranews.com/berita/519369/per...</td>\n",
       "      <td>Sun, 28 Aug 2022 19:18:58 +0700</td>\n",
       "      <td>&lt;img src=\"https://img.antaranews.com/cache/255...</td>\n",
       "    </tr>\n",
       "  </tbody>\n",
       "</table>\n",
       "</div>"
      ],
      "text/plain": [
       "                                               Title  \\\n",
       "0                          ANTARA News Jambi Terkini   \n",
       "1  Malisya Deslilian lulus Fakultas Kedokteran Un...   \n",
       "2  Polda Jambi perkuat pembinaan sikap personel u...   \n",
       "3  Ribuan peserta antusias ikuti Jambi Color Run ...   \n",
       "4  Pertamina Patra Niaga Regional Sumbagsel sesal...   \n",
       "\n",
       "                                                Link  \\\n",
       "0                       https://jambi.antaranews.com   \n",
       "1  https://jambi.antaranews.com/berita/519381/mal...   \n",
       "2  https://jambi.antaranews.com/berita/519377/pol...   \n",
       "3  https://jambi.antaranews.com/berita/519373/rib...   \n",
       "4  https://jambi.antaranews.com/berita/519369/per...   \n",
       "\n",
       "                         Timestamp  \\\n",
       "0  Sun, 28 Aug 2022 21:39:36 +0700   \n",
       "1  Sun, 28 Aug 2022 21:22:25 +0700   \n",
       "2  Sun, 28 Aug 2022 20:42:00 +0700   \n",
       "3  Sun, 28 Aug 2022 20:27:58 +0700   \n",
       "4  Sun, 28 Aug 2022 19:18:58 +0700   \n",
       "\n",
       "                                      Detail_article  \n",
       "0            News And Service from ANTARA News Jambi  \n",
       "1  <img src=\"https://img.antaranews.com/cache/255...  \n",
       "2  <img src=\"https://img.antaranews.com/cache/255...  \n",
       "3  <img src=\"https://img.antaranews.com/cache/255...  \n",
       "4  <img src=\"https://img.antaranews.com/cache/255...  "
      ]
     },
     "execution_count": 12,
     "metadata": {},
     "output_type": "execute_result"
    }
   ],
   "source": [
    "# top 5 data scrapped\n",
    "News_detail_df.head()"
   ]
  }
 ],
 "metadata": {
  "kernelspec": {
   "display_name": "Python 3.9.12",
   "language": "python",
   "name": "python3"
  },
  "language_info": {
   "codemirror_mode": {
    "name": "ipython",
    "version": 3
   },
   "file_extension": ".py",
   "mimetype": "text/x-python",
   "name": "python",
   "nbconvert_exporter": "python",
   "pygments_lexer": "ipython3",
   "version": "3.9.12"
  },
  "orig_nbformat": 4,
  "vscode": {
   "interpreter": {
    "hash": "5747b9065b151de92c4aa2cd98088d5652819cf8ec87bb936e665f94e52b8803"
   }
  }
 },
 "nbformat": 4,
 "nbformat_minor": 2
}
