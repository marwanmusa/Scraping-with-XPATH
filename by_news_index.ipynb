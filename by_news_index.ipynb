{
 "cells": [
  {
   "cell_type": "code",
   "execution_count": 1,
   "metadata": {},
   "outputs": [],
   "source": [
    "# Importing Libraries\n",
    "from selenium import webdriver\n",
    "from selenium.webdriver.chrome.service import Service\n",
    "from selenium.webdriver.chrome.options import Options\n",
    "from webdriver_manager.chrome import ChromeDriverManager\n",
    "from selenium.webdriver.common.by import By\n",
    "\n",
    "options = Options()\n",
    "options.headless = True\n",
    "options.add_argument(\"--window-size=1920,1200\")"
   ]
  },
  {
   "cell_type": "code",
   "execution_count": 2,
   "metadata": {},
   "outputs": [
    {
     "name": "stderr",
     "output_type": "stream",
     "text": [
      "[WDM] - Downloading: 100%|██████████| 6.21M/6.21M [00:05<00:00, 1.21MB/s]\n"
     ]
    },
    {
     "name": "stdout",
     "output_type": "stream",
     "text": [
      "{'title': 'Ibu dari Bayi yang Dibuang di Atas Genting Rumah Dharmahusada Indah Ditemukan', 'url': 'https://jatim.jpnn.com/jatim-terkini/17530/ibu-dari-bayi-yang-dibuang-di-atas-genting-rumah-dharmahusada-indah-ditemukan', 'date': 'Senin, 29 Agustus 2022 – 00:20 WIB'}\n"
     ]
    }
   ],
   "source": [
    "# Installing webdriver\n",
    "driver = webdriver.Chrome(options=options, service=Service(ChromeDriverManager().install()))\n",
    "\n",
    "# Get URL\n",
    "driver.get(\"https://www.jpnn.com/indeks/\")\n",
    "\n",
    "\n",
    "# Get article detail with XPATH\n",
    "Title = driver.find_element(by=By.XPATH, value='//div[@class=\"content list-berita\"]//div[@class=\"content\"]//h1')\n",
    "Url = driver.find_element(by=By.XPATH, value='//div[@class=\"content list-berita\"]//div[@class=\"content\"]//h1//a')\n",
    "Date = driver.find_element(by=By.XPATH, value='//div[@class=\"content list-berita\"]//div[@class=\"content\"]//h6//span[@class=\"silver\"]')\n",
    "\n",
    "# Saving details in detail article dictionary\n",
    "detail_article = {\n",
    "'title': Title.text,\n",
    "'url' : Url.get_attribute(\"href\"),\n",
    "'date' : Date.text\n",
    "}\n",
    "\n",
    "# print detail article\n",
    "print(detail_article)\n",
    "driver.quit()"
   ]
  },
  {
   "cell_type": "code",
   "execution_count": 3,
   "metadata": {},
   "outputs": [
    {
     "name": "stdout",
     "output_type": "stream",
     "text": [
      "jatim.jpnn.com, SURABAYA - Bayi yang ditemukan atas genting rumah warga Jalan Dharmahusada Indah Utara, Surabaya, pada Minggu (28/8) malam telah dievakuasi ke rumah sakit.\n",
      "Command Center 112 Surabaya memastikan jenis kelamin bayi malang itu ialah perempuan.\n",
      "\"Kondisi bayi dalam perawatan intensif rumah sakit, bersama petugas @bpbdsurabaya mendampingi bayi tersebut,\" tulis Command Center 112 melalui akun mereka di Instagram\n",
      "Baca Juga:\n",
      "Miris, Bayi Dibuang di Atas Genting Rumah Dharmahusada Indah Surabaya\n",
      "Adapun ibu dari bayi perempuan itu saat ini sudah berada di kantor polisi.\n",
      "\"Ibu dari bayi perempuan sudah berada di Polsek Mulyorejo untuk dimintai keterangan lebih lanjut,\" tulis mereka.\n",
      "Sebelumnya, warga Dharmahusada Indah Utara Surabaya digegerkan bayi yang ditemukan di atas genting rumah warga, Minggu (28/8) malam.\n",
      "Baca Juga:\n",
      "Misteri Kematian Tragis Bayi Kediri dengan Palu Tergeletak di Sebelahnya\n",
      "Kabar itu diungkapkan oleh Command Center 112\n",
      "Beruntung, bayi dilaporkan selamat. Orok tersebut terlihat berada dalam celah di sela-sela genting saat ditemukan petugas. (faz/jpnn)\n"
     ]
    }
   ],
   "source": [
    "# Use the url to open the link page with full description\n",
    "saved_url = detail_article.get('url')\n",
    "driver = webdriver.Chrome(options=options, service=Service(ChromeDriverManager().install()))\n",
    "driver.get(saved_url)\n",
    "\n",
    "# Get article content using XPATH\n",
    "article_body = driver.find_element(by=By.XPATH, value = '//*[@class=\"page-content\"]//*[@itemprop=\"articleBody\"]').text\n",
    "\n",
    "# print article content\n",
    "print(article_body)\n",
    "driver.quit()"
   ]
  }
 ],
 "metadata": {
  "kernelspec": {
   "display_name": "Python 3.9.12",
   "language": "python",
   "name": "python3"
  },
  "language_info": {
   "codemirror_mode": {
    "name": "ipython",
    "version": 3
   },
   "file_extension": ".py",
   "mimetype": "text/x-python",
   "name": "python",
   "nbconvert_exporter": "python",
   "pygments_lexer": "ipython3",
   "version": "3.9.12"
  },
  "orig_nbformat": 4,
  "vscode": {
   "interpreter": {
    "hash": "5747b9065b151de92c4aa2cd98088d5652819cf8ec87bb936e665f94e52b8803"
   }
  }
 },
 "nbformat": 4,
 "nbformat_minor": 2
}
