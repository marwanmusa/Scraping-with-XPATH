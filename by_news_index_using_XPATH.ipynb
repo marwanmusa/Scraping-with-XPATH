{
 "cells": [
  {
   "cell_type": "markdown",
   "metadata": {},
   "source": [
    "## *Web-Scrapp using XPATH*"
   ]
  },
  {
   "cell_type": "code",
   "execution_count": 1,
   "metadata": {},
   "outputs": [],
   "source": [
    "# Importing Libraries\n",
    "from selenium import webdriver\n",
    "from selenium.webdriver.chrome.service import Service\n",
    "from selenium.webdriver.chrome.options import Options\n",
    "from webdriver_manager.chrome import ChromeDriverManager\n",
    "from selenium.webdriver.common.by import By\n",
    "\n",
    "options = Options()\n",
    "options.headless = True\n",
    "options.add_argument(\"--window-size=1920,1200\")"
   ]
  },
  {
   "cell_type": "code",
   "execution_count": 2,
   "metadata": {},
   "outputs": [
    {
     "name": "stdout",
     "output_type": "stream",
     "text": [
      "{'title': 'Alam Ganjar Cari Atlet Esport Potensial di Jateng', 'url': 'https://jateng.jpnn.com/jateng-terkini/4707/alam-ganjar-cari-atlet-esport-potensial-di-jateng', 'date': 'Senin, 29 Agustus 2022 – 02:37 WIB'}\n"
     ]
    }
   ],
   "source": [
    "# Installing webdriver\n",
    "driver = webdriver.Chrome(options=options, service=Service(ChromeDriverManager().install()))\n",
    "\n",
    "# Get URL\n",
    "driver.get(\"https://www.jpnn.com/indeks/\")\n",
    "\n",
    "\n",
    "# Get article detail with XPATH\n",
    "Title = driver.find_element(by=By.XPATH, value='//div[@class=\"content list-berita\"]//div[@class=\"content\"]//h1')\n",
    "Url = driver.find_element(by=By.XPATH, value='//div[@class=\"content list-berita\"]//div[@class=\"content\"]//h1//a')\n",
    "Date = driver.find_element(by=By.XPATH, value='//div[@class=\"content list-berita\"]//div[@class=\"content\"]//h6//span[@class=\"silver\"]')\n",
    "\n",
    "# Saving details in detail article dictionary\n",
    "detail_article = {'title': Title.text, 'url' : Url.get_attribute(\"href\"), 'date' : Date.text}\n",
    "\n",
    "# print detail article\n",
    "print(detail_article)\n",
    "driver.quit()"
   ]
  },
  {
   "cell_type": "code",
   "execution_count": 3,
   "metadata": {},
   "outputs": [
    {
     "name": "stdout",
     "output_type": "stream",
     "text": [
      "jateng.jpnn.com, SOLO - Ketua Harian Indonesia Esports Association (IESPA) Alam Ganjar menyatakan banyak atlet esport yang potensial di Jawa Tengah seiring dengan perkembangan jenis olahraga baru tersebut.\n",
      "\"Salah satunya terlihat pada saat turnamen esport di Palembang beberapa waktu lalu, kami mengirimkan atlet untuk tiga cabor dan mampu menghasilkan dua medali,\" katanya di sela pelaksanaan DIGIFUN Festival di Mal Solo Paragon, Minggu (28/8).\n",
      "Selain itu, sejumlah atlet di Jawa Tengah juga berhasil mewakili Indonesia ke SEA Games 2021.\n",
      "Baca Juga:\n",
      "Persis Solo Tumbang di Markas Borneo FC\n",
      "\"Memang potensi atlet asal Jawa Tengah tinggi, makanya kami coba bisa enggak sampai ke akar rumput (mencari potensi yang lain) melalui turnamen seperti ini,\" katanya.\n",
      "Alam Ganjar menyampaikan dalam beberapa bulan ke depan Indonesia akan menjadi tuan rumah turnamen esport internasional di Bali.\n",
      "\"Harapannya pada makin semangat ikut kualifikasi dari Jateng. Sayang kalau dari Jateng sebetulnya potensial, tetapi enggak bisa berkontribusi,\" katanya.\n",
      "Baca Juga:\n",
      "Berkat Lapak Ganjar, Pengusaha Mebel di Jepara Banjir Orderan\n",
      "Putra Gubernur Jateng Ganjar Pranowo itu juga berharap ke depan esport bisa menjadi salah satu pilihan ekstra kurikuler di sekolah sehingga pelajar makin terwadahi untuk mengembangkan potensi mereka.\n",
      "\"Sebetulnya mayoritas atlet kami dari pelajar, mahasiswa. Memang belajar tetap yang utama, tetapi kami juga ingin mendorong esport jadi ekskul, ini bisa jadi industri besar,\" katanya.\n"
     ]
    }
   ],
   "source": [
    "# Use the url to open the link page with full description\n",
    "saved_url = detail_article.get('url')\n",
    "driver = webdriver.Chrome(options=options, service=Service(ChromeDriverManager().install()))\n",
    "driver.get(saved_url)\n",
    "\n",
    "# Get article content using XPATH\n",
    "article_body = driver.find_element(by=By.XPATH, value = '//*[@class=\"page-content\"]//*[@itemprop=\"articleBody\"]').text\n",
    "\n",
    "# print article content\n",
    "print(article_body)\n",
    "driver.quit()"
   ]
  },
  {
   "cell_type": "code",
   "execution_count": 4,
   "metadata": {},
   "outputs": [
    {
     "data": {
      "text/html": [
       "<div>\n",
       "<style scoped>\n",
       "    .dataframe tbody tr th:only-of-type {\n",
       "        vertical-align: middle;\n",
       "    }\n",
       "\n",
       "    .dataframe tbody tr th {\n",
       "        vertical-align: top;\n",
       "    }\n",
       "\n",
       "    .dataframe thead th {\n",
       "        text-align: right;\n",
       "    }\n",
       "</style>\n",
       "<table border=\"1\" class=\"dataframe\">\n",
       "  <thead>\n",
       "    <tr style=\"text-align: right;\">\n",
       "      <th></th>\n",
       "      <th>title</th>\n",
       "      <th>url</th>\n",
       "      <th>date</th>\n",
       "      <th>article_body</th>\n",
       "    </tr>\n",
       "  </thead>\n",
       "  <tbody>\n",
       "    <tr>\n",
       "      <th>0</th>\n",
       "      <td>Alam Ganjar Cari Atlet Esport Potensial di Jateng</td>\n",
       "      <td>https://jateng.jpnn.com/jateng-terkini/4707/al...</td>\n",
       "      <td>Senin, 29 Agustus 2022 – 02:37 WIB</td>\n",
       "      <td>jateng.jpnn.com, SOLO - Ketua Harian Indonesia...</td>\n",
       "    </tr>\n",
       "  </tbody>\n",
       "</table>\n",
       "</div>"
      ],
      "text/plain": [
       "                                               title  \\\n",
       "0  Alam Ganjar Cari Atlet Esport Potensial di Jateng   \n",
       "\n",
       "                                                 url  \\\n",
       "0  https://jateng.jpnn.com/jateng-terkini/4707/al...   \n",
       "\n",
       "                                 date  \\\n",
       "0  Senin, 29 Agustus 2022 – 02:37 WIB   \n",
       "\n",
       "                                        article_body  \n",
       "0  jateng.jpnn.com, SOLO - Ketua Harian Indonesia...  "
      ]
     },
     "execution_count": 4,
     "metadata": {},
     "output_type": "execute_result"
    }
   ],
   "source": [
    "# Make a Dataframe\n",
    "import pandas as pd\n",
    "\n",
    "df = pd.DataFrame.from_dict([detail_article])\n",
    "df[\"article_body\"] = article_body\n",
    "df"
   ]
  },
  {
   "cell_type": "markdown",
   "metadata": {},
   "source": [
    "## *Saving the news detail to a database*"
   ]
  },
  {
   "cell_type": "code",
   "execution_count": 5,
   "metadata": {},
   "outputs": [],
   "source": [
    "# importing libraries\n",
    "import mysql.connector\n",
    "from mysql.connector import Error\n",
    "import pandas as pd"
   ]
  },
  {
   "cell_type": "code",
   "execution_count": 6,
   "metadata": {},
   "outputs": [],
   "source": [
    "# Connecting to MySQL Server\n",
    "def create_server_connection(host_name, user_name, user_password):\n",
    "    connection = None\n",
    "    try:\n",
    "        connection = mysql.connector.connect(\n",
    "            host=host_name,\n",
    "            user=user_name,\n",
    "            passwd=user_password\n",
    "        )\n",
    "        print(\"MySQL Database connection successful\")\n",
    "    except Error as err:\n",
    "        print(f\"Error: '{err}'\")\n",
    "\n",
    "    return connection"
   ]
  },
  {
   "cell_type": "code",
   "execution_count": 7,
   "metadata": {},
   "outputs": [
    {
     "name": "stdout",
     "output_type": "stream",
     "text": [
      "MySQL Database connection successful\n"
     ]
    }
   ],
   "source": [
    "# Connecting\n",
    "connection = create_server_connection(\"localhost\", \"root\", \"insert your mysql password here\")"
   ]
  },
  {
   "cell_type": "code",
   "execution_count": 8,
   "metadata": {},
   "outputs": [],
   "source": [
    "# Function for Creating a New Database\n",
    "def create_database(connection, query):\n",
    "    cursor = connection.cursor()\n",
    "    try:\n",
    "        cursor.execute(query)\n",
    "        print(\"Database created successfully\")\n",
    "    except Error as err:\n",
    "        print(f\"Error: '{err}'\")"
   ]
  },
  {
   "cell_type": "code",
   "execution_count": null,
   "metadata": {},
   "outputs": [],
   "source": [
    "# Creating a New Database\n",
    "create_database_query = \"CREATE DATABASE news_article\"\n",
    "create_database(connection, create_database_query)"
   ]
  },
  {
   "cell_type": "markdown",
   "metadata": {},
   "source": [
    "Now that we have created a database in MySQL Server, we can modify our create_server_connection function to connect directly to this database. Note that it's possible - common, in fact - to have multiple databases on one MySQL Server, so we want to always and automatically connect to the database we're interested in.\n",
    "\n",
    "We can do this like so:"
   ]
  },
  {
   "cell_type": "code",
   "execution_count": 10,
   "metadata": {},
   "outputs": [],
   "source": [
    "# Connecting to the Database\n",
    "def create_db_connection(host_name, user_name, user_password, db_name):\n",
    "    connection = None\n",
    "    try:\n",
    "        connection = mysql.connector.connect(\n",
    "            host=host_name,\n",
    "            user=user_name,\n",
    "            passwd=user_password,\n",
    "            database=db_name\n",
    "        )\n",
    "        print(\"MySQL Database connection successful\")\n",
    "    except Error as err:\n",
    "        print(f\"Error: '{err}'\")\n",
    "\n",
    "    return connection"
   ]
  },
  {
   "cell_type": "code",
   "execution_count": 11,
   "metadata": {},
   "outputs": [],
   "source": [
    "# Creating a Query Execution Function\n",
    "def execute_query(connection, query):\n",
    "    cursor = connection.cursor()\n",
    "    try:\n",
    "        cursor.execute(query)\n",
    "        connection.commit()\n",
    "        print(\"Query successful\")\n",
    "    except Error as err:\n",
    "        print(f\"Error: '{err}'\")"
   ]
  },
  {
   "cell_type": "code",
   "execution_count": null,
   "metadata": {},
   "outputs": [],
   "source": [
    "# Creating Tables\n",
    "create_newsarticle_table = \"\"\"\n",
    "CREATE TABLE news_article (\n",
    "  id int(11) NOT NULL AUTO_INCREMENT,\n",
    "  title varchar(255) COLLATE utf8mb4_unicode_520_ci NOT NULL DEFAULT '',\n",
    "  url varchar(255) CHARACTER SET latin1 NOT NULL DEFAULT '',\n",
    "  content longtext COLLATE utf8mb4_unicode_520_ci,\n",
    "  summary text COLLATE utf8mb4_unicode_520_ci,\n",
    "  article_ts bigint(20) NOT NULL DEFAULT '0' COMMENT 'published timestamp of article',\n",
    "  published_date date DEFAULT NULL,\n",
    "  inserted timestamp NOT NULL DEFAULT CURRENT_TIMESTAMP,\n",
    "  updated timestamp NOT NULL DEFAULT CURRENT_TIMESTAMP ON UPDATE CURRENT_TIMESTAMP,\n",
    "  PRIMARY KEY (id),\n",
    "  UNIQUE KEY UNIK (url)\n",
    ") ENGINE=InnoDB DEFAULT CHARSET=utf8mb4 COLLATE=utf8mb4_unicode_520_ci;\n",
    " \"\"\"\n",
    "\n",
    "connection = create_db_connection(\"localhost\", \"root\", \"insert your mysql password here\", \"news_article\") # Connect to the Database\n",
    "execute_query(connection, create_newsarticle_table) # Execute our defined query"
   ]
  },
  {
   "cell_type": "markdown",
   "metadata": {},
   "source": [
    "*Since the task is `to import the news details to a database`, I will perform how to make a query to import the information (from `df` dataframe) `manually`.*"
   ]
  },
  {
   "cell_type": "code",
   "execution_count": 17,
   "metadata": {},
   "outputs": [
    {
     "name": "stdout",
     "output_type": "stream",
     "text": [
      "MySQL Database connection successful\n",
      "Error: '1048 (23000): Column 'article_ts' cannot be null'\n"
     ]
    }
   ],
   "source": [
    "# Populating the Tables\n",
    "pop_newsarticle = \"\"\"\n",
    "INSERT INTO news_article VALUES\n",
    "(1, 'Alam Ganjar Cari Atlet Esport Potensial di Jateng', 'https://jateng.jpnn.com/jateng-terkini/4707/alam-ganjar-cari-atlet-esport-potensial-di-jateng', 'jateng.jpnn.com, SOLO - Ketua Harian Indonesia Esports Association (IESPA) Alam Ganjar menyatakan banyak atlet esport yang potensial di Jawa Tengah seiring dengan perkembangan jenis olahraga baru tersebut.\\n\"Salah satunya terlihat pada saat turnamen esport di Palembang beberapa waktu lalu, kami mengirimkan atlet untuk tiga cabor dan mampu menghasilkan dua medali,\" katanya di sela pelaksanaan DIGIFUN Festival di Mal Solo Paragon, Minggu (28/8).\\nSelain itu, sejumlah atlet di Jawa Tengah juga berhasil mewakili Indonesia ke SEA Games 2021.\\nBaca Juga:\\nPersis Solo Tumbang di Markas Borneo FC\\n\"Memang potensi atlet asal Jawa Tengah tinggi, makanya kami coba bisa enggak sampai ke akar rumput (mencari potensi yang lain) melalui turnamen seperti ini,\" katanya.\\nAlam Ganjar menyampaikan dalam beberapa bulan ke depan Indonesia akan menjadi tuan rumah turnamen esport internasional di Bali.\\n\"Harapannya pada makin semangat ikut kualifikasi dari Jateng. Sayang kalau dari Jateng sebetulnya potensial, tetapi enggak bisa berkontribusi,\" katanya.\\nBaca Juga:\\nBerkat Lapak Ganjar, Pengusaha Mebel di Jepara Banjir Orderan\\nPutra Gubernur Jateng Ganjar Pranowo itu juga berharap ke depan esport bisa menjadi salah satu pilihan ekstra kurikuler di sekolah sehingga pelajar makin terwadahi untuk mengembangkan potensi mereka.\\n\"Sebetulnya mayoritas atlet kami dari pelajar, mahasiswa. Memang belajar tetap yang utama, tetapi kami juga ingin mendorong esport jadi ekskul, ini bisa jadi industri besar,\" katanya.', NULL, NULL, 'Senin, 29 Agustus 2022 – 02:37 WIB', NULL, NULL);\n",
    "\"\"\"\n",
    "\n",
    "connection = create_db_connection(\"localhost\", \"root\", \"insert your mysql password here\", \"news_article\")\n",
    "execute_query(connection, pop_newsarticle)"
   ]
  },
  {
   "cell_type": "markdown",
   "metadata": {},
   "source": [
    "***Column `article_ts`*** cannot be null, I inserted `NULL` values because I'm still searching for how to convert the string value (*since the timestamp scrapped result is in `string` form*), I'll fix it later soon."
   ]
  },
  {
   "cell_type": "markdown",
   "metadata": {},
   "source": [
    "But, we've near to reach the goal that is to scrapp the news articles using **`XPATH`** and importing the result on a **`database`**."
   ]
  }
 ],
 "metadata": {
  "kernelspec": {
   "display_name": "Python 3.9.12",
   "language": "python",
   "name": "python3"
  },
  "language_info": {
   "codemirror_mode": {
    "name": "ipython",
    "version": 3
   },
   "file_extension": ".py",
   "mimetype": "text/x-python",
   "name": "python",
   "nbconvert_exporter": "python",
   "pygments_lexer": "ipython3",
   "version": "3.9.12"
  },
  "orig_nbformat": 4,
  "vscode": {
   "interpreter": {
    "hash": "5747b9065b151de92c4aa2cd98088d5652819cf8ec87bb936e665f94e52b8803"
   }
  }
 },
 "nbformat": 4,
 "nbformat_minor": 2
}
